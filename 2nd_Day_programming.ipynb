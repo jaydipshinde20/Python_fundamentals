{
 "cells": [
  {
   "cell_type": "markdown",
   "id": "d2cc7d1e",
   "metadata": {},
   "source": [
    "## python version"
   ]
  },
  {
   "cell_type": "code",
   "execution_count": 1,
   "id": "634de37a",
   "metadata": {},
   "outputs": [],
   "source": [
    "# 2.x\n",
    "# 3.x"
   ]
  },
  {
   "cell_type": "code",
   "execution_count": 2,
   "id": "1ebbce01",
   "metadata": {},
   "outputs": [
    {
     "name": "stdout",
     "output_type": "stream",
     "text": [
      "The Zen of Python, by Tim Peters\n",
      "\n",
      "Beautiful is better than ugly.\n",
      "Explicit is better than implicit.\n",
      "Simple is better than complex.\n",
      "Complex is better than complicated.\n",
      "Flat is better than nested.\n",
      "Sparse is better than dense.\n",
      "Readability counts.\n",
      "Special cases aren't special enough to break the rules.\n",
      "Although practicality beats purity.\n",
      "Errors should never pass silently.\n",
      "Unless explicitly silenced.\n",
      "In the face of ambiguity, refuse the temptation to guess.\n",
      "There should be one-- and preferably only one --obvious way to do it.\n",
      "Although that way may not be obvious at first unless you're Dutch.\n",
      "Now is better than never.\n",
      "Although never is often better than *right* now.\n",
      "If the implementation is hard to explain, it's a bad idea.\n",
      "If the implementation is easy to explain, it may be a good idea.\n",
      "Namespaces are one honking great idea -- let's do more of those!\n"
     ]
    }
   ],
   "source": [
    "import this"
   ]
  },
  {
   "cell_type": "markdown",
   "id": "1801a03c",
   "metadata": {},
   "source": [
    "## Tabs check"
   ]
  },
  {
   "cell_type": "code",
   "execution_count": 3,
   "id": "a68dbb3c",
   "metadata": {},
   "outputs": [
    {
     "name": "stdout",
     "output_type": "stream",
     "text": [
      "Hello world\n",
      "Hello world\n"
     ]
    }
   ],
   "source": [
    "print(\"Hello world\")\n",
    "print(\"Hello world\")"
   ]
  },
  {
   "cell_type": "code",
   "execution_count": 4,
   "id": "a2174478",
   "metadata": {},
   "outputs": [
    {
     "name": "stdout",
     "output_type": "stream",
     "text": [
      "hello world\n",
      "hello world\n"
     ]
    }
   ],
   "source": [
    "print(\"hello world\")\n",
    "print(\"hello world\")"
   ]
  },
  {
   "cell_type": "code",
   "execution_count": 5,
   "id": "36e5115c",
   "metadata": {},
   "outputs": [
    {
     "data": {
      "text/plain": [
       "321"
      ]
     },
     "execution_count": 5,
     "metadata": {},
     "output_type": "execute_result"
    }
   ],
   "source": [
    "321"
   ]
  },
  {
   "cell_type": "markdown",
   "id": "5a422551",
   "metadata": {},
   "source": [
    "## variables "
   ]
  },
  {
   "cell_type": "code",
   "execution_count": 6,
   "id": "80a2aab0",
   "metadata": {},
   "outputs": [
    {
     "data": {
      "text/plain": [
       "7"
      ]
     },
     "execution_count": 6,
     "metadata": {},
     "output_type": "execute_result"
    }
   ],
   "source": [
    "1+6"
   ]
  },
  {
   "cell_type": "code",
   "execution_count": 4,
   "id": "18935e83",
   "metadata": {},
   "outputs": [],
   "source": [
    "t = 5+5"
   ]
  },
  {
   "cell_type": "code",
   "execution_count": 5,
   "id": "5933d1d3",
   "metadata": {},
   "outputs": [
    {
     "data": {
      "text/plain": [
       "10"
      ]
     },
     "execution_count": 5,
     "metadata": {},
     "output_type": "execute_result"
    }
   ],
   "source": [
    "t"
   ]
  },
  {
   "cell_type": "code",
   "execution_count": 6,
   "id": "bef4721d",
   "metadata": {},
   "outputs": [
    {
     "data": {
      "text/plain": [
       "10"
      ]
     },
     "execution_count": 6,
     "metadata": {},
     "output_type": "execute_result"
    }
   ],
   "source": [
    "t"
   ]
  },
  {
   "cell_type": "code",
   "execution_count": 7,
   "id": "f2c0d743",
   "metadata": {},
   "outputs": [],
   "source": [
    "t =20"
   ]
  },
  {
   "cell_type": "code",
   "execution_count": 8,
   "id": "2d88f327",
   "metadata": {},
   "outputs": [
    {
     "data": {
      "text/plain": [
       "20"
      ]
     },
     "execution_count": 8,
     "metadata": {},
     "output_type": "execute_result"
    }
   ],
   "source": [
    "t"
   ]
  },
  {
   "cell_type": "code",
   "execution_count": 9,
   "id": "96d12f23",
   "metadata": {},
   "outputs": [],
   "source": [
    "  s = 'INDIA'"
   ]
  },
  {
   "cell_type": "code",
   "execution_count": 10,
   "id": "a4b82fd4",
   "metadata": {},
   "outputs": [
    {
     "data": {
      "text/plain": [
       "'INDIA'"
      ]
     },
     "execution_count": 10,
     "metadata": {},
     "output_type": "execute_result"
    }
   ],
   "source": [
    "s"
   ]
  },
  {
   "cell_type": "markdown",
   "id": "23e66898",
   "metadata": {},
   "source": [
    "## DATA TYPES IN PYTHON\n",
    "\n",
    "Integer\n",
    "\n",
    "float\n",
    "\n",
    "string\n",
    "\n",
    "complex\n",
    "\n",
    "boolyan\n",
    "\n"
   ]
  },
  {
   "cell_type": "code",
   "execution_count": 11,
   "id": "252dc87e",
   "metadata": {},
   "outputs": [],
   "source": [
    "a = 10"
   ]
  },
  {
   "cell_type": "code",
   "execution_count": 12,
   "id": "b8bf05c2",
   "metadata": {},
   "outputs": [
    {
     "data": {
      "text/plain": [
       "int"
      ]
     },
     "execution_count": 12,
     "metadata": {},
     "output_type": "execute_result"
    }
   ],
   "source": [
    "type(a)"
   ]
  },
  {
   "cell_type": "code",
   "execution_count": 13,
   "id": "5ee13aef",
   "metadata": {},
   "outputs": [],
   "source": [
    "b = 2.5"
   ]
  },
  {
   "cell_type": "code",
   "execution_count": 14,
   "id": "9d6abd42",
   "metadata": {},
   "outputs": [
    {
     "data": {
      "text/plain": [
       "2.5"
      ]
     },
     "execution_count": 14,
     "metadata": {},
     "output_type": "execute_result"
    }
   ],
   "source": [
    "b"
   ]
  },
  {
   "cell_type": "code",
   "execution_count": 15,
   "id": "4d117ec4",
   "metadata": {},
   "outputs": [
    {
     "data": {
      "text/plain": [
       "float"
      ]
     },
     "execution_count": 15,
     "metadata": {},
     "output_type": "execute_result"
    }
   ],
   "source": [
    "type(b)"
   ]
  },
  {
   "cell_type": "code",
   "execution_count": 36,
   "id": "d7bd02b1",
   "metadata": {},
   "outputs": [],
   "source": [
    "c ='DATAWAVE.AI'"
   ]
  },
  {
   "cell_type": "code",
   "execution_count": 39,
   "id": "f6d89be1",
   "metadata": {},
   "outputs": [
    {
     "data": {
      "text/plain": [
       "'DATAWAVE.AI'"
      ]
     },
     "execution_count": 39,
     "metadata": {},
     "output_type": "execute_result"
    }
   ],
   "source": [
    "c"
   ]
  },
  {
   "cell_type": "code",
   "execution_count": 40,
   "id": "6c55f0f1",
   "metadata": {},
   "outputs": [
    {
     "data": {
      "text/plain": [
       "str"
      ]
     },
     "execution_count": 40,
     "metadata": {},
     "output_type": "execute_result"
    }
   ],
   "source": [
    "type(c)"
   ]
  },
  {
   "cell_type": "markdown",
   "id": "e353ba62",
   "metadata": {},
   "source": [
    "## All variables value asign\n",
    "IN MANY LINES"
   ]
  },
  {
   "cell_type": "code",
   "execution_count": 22,
   "id": "4c266b0d",
   "metadata": {},
   "outputs": [],
   "source": [
    "a = 120\n",
    "b = 2.2\n",
    "c = 1+3j\n",
    "d = 'India'\n",
    "e = False\n"
   ]
  },
  {
   "cell_type": "code",
   "execution_count": 23,
   "id": "9120e409",
   "metadata": {},
   "outputs": [
    {
     "data": {
      "text/plain": [
       "120"
      ]
     },
     "execution_count": 23,
     "metadata": {},
     "output_type": "execute_result"
    }
   ],
   "source": [
    "a"
   ]
  },
  {
   "cell_type": "code",
   "execution_count": 24,
   "id": "15933d47",
   "metadata": {},
   "outputs": [
    {
     "data": {
      "text/plain": [
       "2.2"
      ]
     },
     "execution_count": 24,
     "metadata": {},
     "output_type": "execute_result"
    }
   ],
   "source": [
    "b"
   ]
  },
  {
   "cell_type": "code",
   "execution_count": 25,
   "id": "6ddd6e10",
   "metadata": {},
   "outputs": [
    {
     "data": {
      "text/plain": [
       "(1+3j)"
      ]
     },
     "execution_count": 25,
     "metadata": {},
     "output_type": "execute_result"
    }
   ],
   "source": [
    "c"
   ]
  },
  {
   "cell_type": "code",
   "execution_count": 26,
   "id": "09a79754",
   "metadata": {},
   "outputs": [
    {
     "data": {
      "text/plain": [
       "False"
      ]
     },
     "execution_count": 26,
     "metadata": {},
     "output_type": "execute_result"
    }
   ],
   "source": [
    "e"
   ]
  },
  {
   "cell_type": "code",
   "execution_count": 27,
   "id": "e127168e",
   "metadata": {},
   "outputs": [
    {
     "data": {
      "text/plain": [
       "'India'"
      ]
     },
     "execution_count": 27,
     "metadata": {},
     "output_type": "execute_result"
    }
   ],
   "source": [
    "d"
   ]
  },
  {
   "cell_type": "markdown",
   "id": "8e1f1d07",
   "metadata": {},
   "source": [
    "## All variables value asigned\n",
    "In one line"
   ]
  },
  {
   "cell_type": "code",
   "execution_count": 29,
   "id": "76a8972f",
   "metadata": {},
   "outputs": [],
   "source": [
    "a,b,c,d,e = 120,2.2,1+3j,'India',False"
   ]
  },
  {
   "cell_type": "code",
   "execution_count": 30,
   "id": "bcdb68ca",
   "metadata": {},
   "outputs": [
    {
     "data": {
      "text/plain": [
       "False"
      ]
     },
     "execution_count": 30,
     "metadata": {},
     "output_type": "execute_result"
    }
   ],
   "source": [
    "e"
   ]
  },
  {
   "cell_type": "code",
   "execution_count": 32,
   "id": "6085ec7c",
   "metadata": {},
   "outputs": [
    {
     "data": {
      "text/plain": [
       "'India'"
      ]
     },
     "execution_count": 32,
     "metadata": {},
     "output_type": "execute_result"
    }
   ],
   "source": [
    "d"
   ]
  },
  {
   "cell_type": "code",
   "execution_count": 33,
   "id": "d3f04f74",
   "metadata": {},
   "outputs": [
    {
     "data": {
      "text/plain": [
       "(1+3j)"
      ]
     },
     "execution_count": 33,
     "metadata": {},
     "output_type": "execute_result"
    }
   ],
   "source": [
    "c"
   ]
  },
  {
   "cell_type": "code",
   "execution_count": 34,
   "id": "35435c04",
   "metadata": {},
   "outputs": [
    {
     "data": {
      "text/plain": [
       "120"
      ]
     },
     "execution_count": 34,
     "metadata": {},
     "output_type": "execute_result"
    }
   ],
   "source": [
    "a"
   ]
  },
  {
   "cell_type": "code",
   "execution_count": 35,
   "id": "c7c6b0ab",
   "metadata": {},
   "outputs": [
    {
     "data": {
      "text/plain": [
       "2.2"
      ]
     },
     "execution_count": 35,
     "metadata": {},
     "output_type": "execute_result"
    }
   ],
   "source": [
    "b"
   ]
  },
  {
   "cell_type": "markdown",
   "id": "38ebd77c",
   "metadata": {},
   "source": [
    "## String operations"
   ]
  },
  {
   "cell_type": "code",
   "execution_count": 1,
   "id": "dae11dcb",
   "metadata": {},
   "outputs": [],
   "source": [
    "s = 'INDIA'"
   ]
  },
  {
   "cell_type": "code",
   "execution_count": 2,
   "id": "42b21a5d",
   "metadata": {},
   "outputs": [
    {
     "data": {
      "text/plain": [
       "'INDIA'"
      ]
     },
     "execution_count": 2,
     "metadata": {},
     "output_type": "execute_result"
    }
   ],
   "source": [
    "s"
   ]
  },
  {
   "cell_type": "code",
   "execution_count": 3,
   "id": "be1c7f5a",
   "metadata": {},
   "outputs": [
    {
     "data": {
      "text/plain": [
       "str"
      ]
     },
     "execution_count": 3,
     "metadata": {},
     "output_type": "execute_result"
    }
   ],
   "source": [
    "type (s)"
   ]
  },
  {
   "cell_type": "code",
   "execution_count": 4,
   "id": "ce8e5618",
   "metadata": {},
   "outputs": [
    {
     "data": {
      "text/plain": [
       "5"
      ]
     },
     "execution_count": 4,
     "metadata": {},
     "output_type": "execute_result"
    }
   ],
   "source": [
    "len(s)"
   ]
  },
  {
   "cell_type": "code",
   "execution_count": 5,
   "id": "e462147d",
   "metadata": {},
   "outputs": [
    {
     "data": {
      "text/plain": [
       "'I'"
      ]
     },
     "execution_count": 5,
     "metadata": {},
     "output_type": "execute_result"
    }
   ],
   "source": [
    "s[0]"
   ]
  },
  {
   "cell_type": "code",
   "execution_count": 6,
   "id": "3541f30a",
   "metadata": {},
   "outputs": [
    {
     "data": {
      "text/plain": [
       "'N'"
      ]
     },
     "execution_count": 6,
     "metadata": {},
     "output_type": "execute_result"
    }
   ],
   "source": [
    "s[1]"
   ]
  },
  {
   "cell_type": "code",
   "execution_count": 8,
   "id": "b90eaa10",
   "metadata": {},
   "outputs": [
    {
     "data": {
      "text/plain": [
       "'A'"
      ]
     },
     "execution_count": 8,
     "metadata": {},
     "output_type": "execute_result"
    }
   ],
   "source": [
    "s[4]"
   ]
  },
  {
   "cell_type": "code",
   "execution_count": 9,
   "id": "399cb631",
   "metadata": {},
   "outputs": [
    {
     "data": {
      "text/plain": [
       "'D'"
      ]
     },
     "execution_count": 9,
     "metadata": {},
     "output_type": "execute_result"
    }
   ],
   "source": [
    "s[2]"
   ]
  },
  {
   "cell_type": "code",
   "execution_count": 10,
   "id": "b464391c",
   "metadata": {},
   "outputs": [],
   "source": [
    "a = 'INDIA IS A GREAT NATION'"
   ]
  },
  {
   "cell_type": "code",
   "execution_count": 11,
   "id": "b05cab44",
   "metadata": {},
   "outputs": [
    {
     "data": {
      "text/plain": [
       "'INDIA IS A GREAT NATION'"
      ]
     },
     "execution_count": 11,
     "metadata": {},
     "output_type": "execute_result"
    }
   ],
   "source": [
    "a"
   ]
  },
  {
   "cell_type": "code",
   "execution_count": 21,
   "id": "32ef0abe",
   "metadata": {},
   "outputs": [
    {
     "data": {
      "text/plain": [
       "23"
      ]
     },
     "execution_count": 21,
     "metadata": {},
     "output_type": "execute_result"
    }
   ],
   "source": [
    "len(a)"
   ]
  },
  {
   "cell_type": "code",
   "execution_count": 12,
   "id": "774787e8",
   "metadata": {},
   "outputs": [
    {
     "data": {
      "text/plain": [
       "'INDI'"
      ]
     },
     "execution_count": 12,
     "metadata": {},
     "output_type": "execute_result"
    }
   ],
   "source": [
    "a[0:4]"
   ]
  },
  {
   "cell_type": "code",
   "execution_count": 13,
   "id": "9226aaf9",
   "metadata": {},
   "outputs": [
    {
     "data": {
      "text/plain": [
       "'INDIA'"
      ]
     },
     "execution_count": 13,
     "metadata": {},
     "output_type": "execute_result"
    }
   ],
   "source": [
    "a[0:5]"
   ]
  },
  {
   "cell_type": "code",
   "execution_count": 16,
   "id": "74e4f3b5",
   "metadata": {},
   "outputs": [
    {
     "data": {
      "text/plain": [
       "'INDIA IS A G'"
      ]
     },
     "execution_count": 16,
     "metadata": {},
     "output_type": "execute_result"
    }
   ],
   "source": [
    "a[0:12]"
   ]
  },
  {
   "cell_type": "code",
   "execution_count": 18,
   "id": "6fe74c17",
   "metadata": {},
   "outputs": [
    {
     "data": {
      "text/plain": [
       "'GREAT '"
      ]
     },
     "execution_count": 18,
     "metadata": {},
     "output_type": "execute_result"
    }
   ],
   "source": [
    "a[11:17]"
   ]
  },
  {
   "cell_type": "code",
   "execution_count": 19,
   "id": "5af5473a",
   "metadata": {},
   "outputs": [
    {
     "data": {
      "text/plain": [
       "'INDIA IS A'"
      ]
     },
     "execution_count": 19,
     "metadata": {},
     "output_type": "execute_result"
    }
   ],
   "source": [
    "a[0:10]"
   ]
  },
  {
   "cell_type": "code",
   "execution_count": 20,
   "id": "aecae268",
   "metadata": {},
   "outputs": [
    {
     "data": {
      "text/plain": [
       "'S A'"
      ]
     },
     "execution_count": 20,
     "metadata": {},
     "output_type": "execute_result"
    }
   ],
   "source": [
    "a[7:10]"
   ]
  },
  {
   "cell_type": "code",
   "execution_count": 23,
   "id": "82806c11",
   "metadata": {},
   "outputs": [
    {
     "data": {
      "text/plain": [
       "'INDIA IS A GREAT NATION'"
      ]
     },
     "execution_count": 23,
     "metadata": {},
     "output_type": "execute_result"
    }
   ],
   "source": [
    "a[0:23]"
   ]
  },
  {
   "cell_type": "code",
   "execution_count": 24,
   "id": "baeb2794",
   "metadata": {},
   "outputs": [
    {
     "data": {
      "text/plain": [
       "' GREAT NATION'"
      ]
     },
     "execution_count": 24,
     "metadata": {},
     "output_type": "execute_result"
    }
   ],
   "source": [
    "a[10:]"
   ]
  },
  {
   "cell_type": "code",
   "execution_count": 25,
   "id": "b58960d5",
   "metadata": {},
   "outputs": [
    {
     "data": {
      "text/plain": [
       "'INDIA IS A GREAT NATION'"
      ]
     },
     "execution_count": 25,
     "metadata": {},
     "output_type": "execute_result"
    }
   ],
   "source": [
    "a"
   ]
  },
  {
   "cell_type": "markdown",
   "id": "28312e1c",
   "metadata": {},
   "source": [
    "## Alternate character access"
   ]
  },
  {
   "cell_type": "code",
   "execution_count": 48,
   "id": "3b89863c",
   "metadata": {},
   "outputs": [
    {
     "data": {
      "text/plain": [
       "'INDIA IS A GREAT NATION'"
      ]
     },
     "execution_count": 48,
     "metadata": {},
     "output_type": "execute_result"
    }
   ],
   "source": [
    "a"
   ]
  },
  {
   "cell_type": "code",
   "execution_count": 28,
   "id": "bbba64ea",
   "metadata": {},
   "outputs": [
    {
     "data": {
      "text/plain": [
       "'INDIA IS A GREAT NATION'"
      ]
     },
     "execution_count": 28,
     "metadata": {},
     "output_type": "execute_result"
    }
   ],
   "source": [
    "a[0:100]"
   ]
  },
  {
   "cell_type": "code",
   "execution_count": 29,
   "id": "6ec9127b",
   "metadata": {},
   "outputs": [
    {
     "data": {
      "text/plain": [
       "'INDIA IS A GREAT NATION'"
      ]
     },
     "execution_count": 29,
     "metadata": {},
     "output_type": "execute_result"
    }
   ],
   "source": [
    "a[0:100:1]"
   ]
  },
  {
   "cell_type": "code",
   "execution_count": 31,
   "id": "47b69d7c",
   "metadata": {},
   "outputs": [
    {
     "data": {
      "text/plain": [
       "'IDAI  RA AIN'"
      ]
     },
     "execution_count": 31,
     "metadata": {},
     "output_type": "execute_result"
    }
   ],
   "source": [
    "a[0:100:2]"
   ]
  },
  {
   "cell_type": "code",
   "execution_count": 32,
   "id": "066ac4ff",
   "metadata": {},
   "outputs": [
    {
     "data": {
      "text/plain": [
       "'IA R I'"
      ]
     },
     "execution_count": 32,
     "metadata": {},
     "output_type": "execute_result"
    }
   ],
   "source": [
    "a[0:100:4]"
   ]
  },
  {
   "cell_type": "markdown",
   "id": "a409c0c9",
   "metadata": {},
   "source": [
    "## STRING REVERSE"
   ]
  },
  {
   "cell_type": "code",
   "execution_count": 36,
   "id": "ceacfac7",
   "metadata": {},
   "outputs": [
    {
     "data": {
      "text/plain": [
       "'INDIA IS A GREAT NATION'"
      ]
     },
     "execution_count": 36,
     "metadata": {},
     "output_type": "execute_result"
    }
   ],
   "source": [
    "a"
   ]
  },
  {
   "cell_type": "code",
   "execution_count": 35,
   "id": "c865a10c",
   "metadata": {},
   "outputs": [
    {
     "data": {
      "text/plain": [
       "'NOITAN TAERG A SI AIDNI'"
      ]
     },
     "execution_count": 35,
     "metadata": {},
     "output_type": "execute_result"
    }
   ],
   "source": [
    "a[::-1]"
   ]
  },
  {
   "cell_type": "markdown",
   "id": "1902d513",
   "metadata": {},
   "source": [
    "## FIND CHAR IN INDEX"
   ]
  },
  {
   "cell_type": "code",
   "execution_count": 37,
   "id": "92d29ac0",
   "metadata": {},
   "outputs": [
    {
     "data": {
      "text/plain": [
       "'INDIA IS A GREAT NATION'"
      ]
     },
     "execution_count": 37,
     "metadata": {},
     "output_type": "execute_result"
    }
   ],
   "source": [
    "a"
   ]
  },
  {
   "cell_type": "code",
   "execution_count": 38,
   "id": "4f151c08",
   "metadata": {},
   "outputs": [
    {
     "data": {
      "text/plain": [
       "11"
      ]
     },
     "execution_count": 38,
     "metadata": {},
     "output_type": "execute_result"
    }
   ],
   "source": [
    "a.find(\"G\")"
   ]
  },
  {
   "cell_type": "code",
   "execution_count": 42,
   "id": "cb27a885",
   "metadata": {},
   "outputs": [
    {
     "data": {
      "text/plain": [
       "2"
      ]
     },
     "execution_count": 42,
     "metadata": {},
     "output_type": "execute_result"
    }
   ],
   "source": [
    "a.find(\"D\")"
   ]
  },
  {
   "cell_type": "code",
   "execution_count": 43,
   "id": "2a24178c",
   "metadata": {},
   "outputs": [
    {
     "data": {
      "text/plain": [
       "11"
      ]
     },
     "execution_count": 43,
     "metadata": {},
     "output_type": "execute_result"
    }
   ],
   "source": [
    "a.find(\"GRE\")"
   ]
  },
  {
   "cell_type": "code",
   "execution_count": 44,
   "id": "602ad767",
   "metadata": {},
   "outputs": [
    {
     "data": {
      "text/plain": [
       "20"
      ]
     },
     "execution_count": 44,
     "metadata": {},
     "output_type": "execute_result"
    }
   ],
   "source": [
    "a.find(\"ION\")"
   ]
  },
  {
   "cell_type": "markdown",
   "id": "b4517032",
   "metadata": {},
   "source": [
    "## CASE CHANGE"
   ]
  },
  {
   "cell_type": "code",
   "execution_count": 47,
   "id": "fc951b04",
   "metadata": {},
   "outputs": [
    {
     "data": {
      "text/plain": [
       "'INDIA IS A GREAT NATION'"
      ]
     },
     "execution_count": 47,
     "metadata": {},
     "output_type": "execute_result"
    }
   ],
   "source": [
    "a"
   ]
  },
  {
   "cell_type": "code",
   "execution_count": 46,
   "id": "f7c2d39d",
   "metadata": {},
   "outputs": [
    {
     "data": {
      "text/plain": [
       "'India is a great nation'"
      ]
     },
     "execution_count": 46,
     "metadata": {},
     "output_type": "execute_result"
    }
   ],
   "source": [
    "a = a.capitalize()"
   ]
  },
  {
   "cell_type": "code",
   "execution_count": 76,
   "id": "9e7ddef9",
   "metadata": {},
   "outputs": [],
   "source": [
    "b = 'RAM IS A CLEVER BOY'"
   ]
  },
  {
   "cell_type": "code",
   "execution_count": 77,
   "id": "b6696c25",
   "metadata": {},
   "outputs": [
    {
     "data": {
      "text/plain": [
       "'RAM IS A CLEVER BOY'"
      ]
     },
     "execution_count": 77,
     "metadata": {},
     "output_type": "execute_result"
    }
   ],
   "source": [
    "b"
   ]
  },
  {
   "cell_type": "code",
   "execution_count": 80,
   "id": "298e2b52",
   "metadata": {},
   "outputs": [],
   "source": [
    "b = b.capitalize()"
   ]
  },
  {
   "cell_type": "code",
   "execution_count": 81,
   "id": "d1a8b371",
   "metadata": {},
   "outputs": [
    {
     "data": {
      "text/plain": [
       "'Ram is a clever boy'"
      ]
     },
     "execution_count": 81,
     "metadata": {},
     "output_type": "execute_result"
    }
   ],
   "source": [
    "b"
   ]
  },
  {
   "cell_type": "code",
   "execution_count": 57,
   "id": "4dc72e92",
   "metadata": {},
   "outputs": [
    {
     "data": {
      "text/plain": [
       "'india is a great nation'"
      ]
     },
     "execution_count": 57,
     "metadata": {},
     "output_type": "execute_result"
    }
   ],
   "source": [
    "a.lower()"
   ]
  },
  {
   "cell_type": "code",
   "execution_count": 82,
   "id": "94a92e7d",
   "metadata": {},
   "outputs": [],
   "source": [
    "b = b.lower()"
   ]
  },
  {
   "cell_type": "code",
   "execution_count": 83,
   "id": "3852fe78",
   "metadata": {},
   "outputs": [
    {
     "data": {
      "text/plain": [
       "'ram is a clever boy'"
      ]
     },
     "execution_count": 83,
     "metadata": {},
     "output_type": "execute_result"
    }
   ],
   "source": [
    "b"
   ]
  },
  {
   "cell_type": "code",
   "execution_count": 63,
   "id": "1b677590",
   "metadata": {},
   "outputs": [
    {
     "data": {
      "text/plain": [
       "'INDIA IS A GREAT NATION'"
      ]
     },
     "execution_count": 63,
     "metadata": {},
     "output_type": "execute_result"
    }
   ],
   "source": [
    "a.upper()"
   ]
  },
  {
   "cell_type": "code",
   "execution_count": 84,
   "id": "f9023e17",
   "metadata": {},
   "outputs": [],
   "source": [
    "b = b.upper()"
   ]
  },
  {
   "cell_type": "code",
   "execution_count": 85,
   "id": "1983e168",
   "metadata": {},
   "outputs": [
    {
     "data": {
      "text/plain": [
       "'RAM IS A CLEVER BOY'"
      ]
     },
     "execution_count": 85,
     "metadata": {},
     "output_type": "execute_result"
    }
   ],
   "source": [
    "b"
   ]
  },
  {
   "cell_type": "code",
   "execution_count": 86,
   "id": "bc9b0ab3",
   "metadata": {},
   "outputs": [
    {
     "data": {
      "text/plain": [
       "False"
      ]
     },
     "execution_count": 86,
     "metadata": {},
     "output_type": "execute_result"
    }
   ],
   "source": [
    "a.isalnum()"
   ]
  },
  {
   "cell_type": "code",
   "execution_count": 87,
   "id": "2fe27f17",
   "metadata": {},
   "outputs": [
    {
     "data": {
      "text/plain": [
       "False"
      ]
     },
     "execution_count": 87,
     "metadata": {},
     "output_type": "execute_result"
    }
   ],
   "source": [
    "b.isalnum()"
   ]
  },
  {
   "cell_type": "markdown",
   "id": "d8ee65a9",
   "metadata": {},
   "source": [
    "## EXTRA SPACE"
   ]
  },
  {
   "cell_type": "code",
   "execution_count": 97,
   "id": "0e978de9",
   "metadata": {},
   "outputs": [],
   "source": [
    "t = \"     abcde of xyz    \""
   ]
  },
  {
   "cell_type": "code",
   "execution_count": 95,
   "id": "59d30cb9",
   "metadata": {},
   "outputs": [
    {
     "data": {
      "text/plain": [
       "'     abcde of xyz    '"
      ]
     },
     "execution_count": 95,
     "metadata": {},
     "output_type": "execute_result"
    }
   ],
   "source": [
    "t"
   ]
  },
  {
   "cell_type": "code",
   "execution_count": 96,
   "id": "74ee727b",
   "metadata": {},
   "outputs": [
    {
     "data": {
      "text/plain": [
       "'abcde of xyz'"
      ]
     },
     "execution_count": 96,
     "metadata": {},
     "output_type": "execute_result"
    }
   ],
   "source": [
    "t.strip()"
   ]
  },
  {
   "cell_type": "code",
   "execution_count": 98,
   "id": "fe5e565c",
   "metadata": {},
   "outputs": [],
   "source": [
    "D = '    PQR ST BUS    '"
   ]
  },
  {
   "cell_type": "code",
   "execution_count": 99,
   "id": "ee99dc4a",
   "metadata": {},
   "outputs": [
    {
     "data": {
      "text/plain": [
       "'    PQR ST BUS    '"
      ]
     },
     "execution_count": 99,
     "metadata": {},
     "output_type": "execute_result"
    }
   ],
   "source": [
    "D"
   ]
  },
  {
   "cell_type": "code",
   "execution_count": 100,
   "id": "27ad6cbd",
   "metadata": {},
   "outputs": [
    {
     "data": {
      "text/plain": [
       "'PQR ST BUS'"
      ]
     },
     "execution_count": 100,
     "metadata": {},
     "output_type": "execute_result"
    }
   ],
   "source": [
    "D.strip()"
   ]
  },
  {
   "cell_type": "markdown",
   "id": "1a746d21",
   "metadata": {},
   "source": [
    "## saperate chracter "
   ]
  },
  {
   "cell_type": "code",
   "execution_count": 101,
   "id": "39414518",
   "metadata": {},
   "outputs": [
    {
     "data": {
      "text/plain": [
       "'INDIA IS A GREAT NATION'"
      ]
     },
     "execution_count": 101,
     "metadata": {},
     "output_type": "execute_result"
    }
   ],
   "source": [
    "a"
   ]
  },
  {
   "cell_type": "code",
   "execution_count": 103,
   "id": "50a98f55",
   "metadata": {},
   "outputs": [
    {
     "data": {
      "text/plain": [
       "['INDIA', 'IS', 'A', 'GREAT', 'NATION']"
      ]
     },
     "execution_count": 103,
     "metadata": {},
     "output_type": "execute_result"
    }
   ],
   "source": [
    "a = a.split()"
   ]
  },
  {
   "cell_type": "code",
   "execution_count": 104,
   "id": "da85c8f3",
   "metadata": {},
   "outputs": [
    {
     "data": {
      "text/plain": [
       "'RAM IS A CLEVER BOY'"
      ]
     },
     "execution_count": 104,
     "metadata": {},
     "output_type": "execute_result"
    }
   ],
   "source": [
    "b"
   ]
  },
  {
   "cell_type": "code",
   "execution_count": 105,
   "id": "031862e2",
   "metadata": {},
   "outputs": [
    {
     "data": {
      "text/plain": [
       "['RAM', 'IS', 'A', 'CLEVER', 'BOY']"
      ]
     },
     "execution_count": 105,
     "metadata": {},
     "output_type": "execute_result"
    }
   ],
   "source": [
    "b = b.split()"
   ]
  },
  {
   "cell_type": "code",
   "execution_count": 110,
   "id": "3cba4315",
   "metadata": {},
   "outputs": [],
   "source": [
    "t = a.split()"
   ]
  },
  {
   "cell_type": "code",
   "execution_count": 111,
   "id": "9537b67f",
   "metadata": {},
   "outputs": [
    {
     "data": {
      "text/plain": [
       "['INDIA', 'IS', 'A', 'GREAT', 'NATION']"
      ]
     },
     "execution_count": 111,
     "metadata": {},
     "output_type": "execute_result"
    }
   ],
   "source": [
    "t"
   ]
  },
  {
   "cell_type": "code",
   "execution_count": 113,
   "id": "0de14365",
   "metadata": {},
   "outputs": [],
   "source": [
    "k = \" india is my nation\""
   ]
  },
  {
   "cell_type": "code",
   "execution_count": 115,
   "id": "4314c238",
   "metadata": {},
   "outputs": [
    {
     "data": {
      "text/plain": [
       "' india is my nation'"
      ]
     },
     "execution_count": 115,
     "metadata": {},
     "output_type": "execute_result"
    }
   ],
   "source": [
    "k"
   ]
  },
  {
   "cell_type": "code",
   "execution_count": 116,
   "id": "4f6705a7",
   "metadata": {},
   "outputs": [
    {
     "data": {
      "text/plain": [
       "' India Is My Nation'"
      ]
     },
     "execution_count": 116,
     "metadata": {},
     "output_type": "execute_result"
    }
   ],
   "source": [
    "k.title()"
   ]
  },
  {
   "cell_type": "markdown",
   "id": "99598991",
   "metadata": {},
   "source": [
    "## LIST"
   ]
  },
  {
   "cell_type": "code",
   "execution_count": 117,
   "id": "e7d81881",
   "metadata": {},
   "outputs": [
    {
     "data": {
      "text/plain": [
       "[]"
      ]
     },
     "execution_count": 117,
     "metadata": {},
     "output_type": "execute_result"
    }
   ],
   "source": [
    "list()"
   ]
  },
  {
   "cell_type": "code",
   "execution_count": 118,
   "id": "40cc401b",
   "metadata": {},
   "outputs": [],
   "source": [
    "t = []"
   ]
  },
  {
   "cell_type": "code",
   "execution_count": 119,
   "id": "aeea685a",
   "metadata": {},
   "outputs": [
    {
     "data": {
      "text/plain": [
       "[]"
      ]
     },
     "execution_count": 119,
     "metadata": {},
     "output_type": "execute_result"
    }
   ],
   "source": [
    "t"
   ]
  },
  {
   "cell_type": "code",
   "execution_count": 120,
   "id": "8aaa6c2f",
   "metadata": {},
   "outputs": [
    {
     "data": {
      "text/plain": [
       "list"
      ]
     },
     "execution_count": 120,
     "metadata": {},
     "output_type": "execute_result"
    }
   ],
   "source": [
    "type(t)"
   ]
  },
  {
   "cell_type": "code",
   "execution_count": 121,
   "id": "bf214aa9",
   "metadata": {},
   "outputs": [
    {
     "data": {
      "text/plain": [
       "0"
      ]
     },
     "execution_count": 121,
     "metadata": {},
     "output_type": "execute_result"
    }
   ],
   "source": [
    "len(t)"
   ]
  },
  {
   "cell_type": "code",
   "execution_count": 1,
   "id": "760cba7b",
   "metadata": {},
   "outputs": [],
   "source": [
    "l =['INDIA',5,6.5,1+2J,True]"
   ]
  },
  {
   "cell_type": "code",
   "execution_count": 2,
   "id": "f583f4f5",
   "metadata": {},
   "outputs": [
    {
     "data": {
      "text/plain": [
       "['INDIA', 5, 6.5, (1+2j), True]"
      ]
     },
     "execution_count": 2,
     "metadata": {},
     "output_type": "execute_result"
    }
   ],
   "source": [
    "l"
   ]
  },
  {
   "cell_type": "code",
   "execution_count": 3,
   "id": "ce812d11",
   "metadata": {},
   "outputs": [
    {
     "data": {
      "text/plain": [
       "'INDIA'"
      ]
     },
     "execution_count": 3,
     "metadata": {},
     "output_type": "execute_result"
    }
   ],
   "source": [
    "l[0]"
   ]
  },
  {
   "cell_type": "code",
   "execution_count": 4,
   "id": "36c2e6b9",
   "metadata": {},
   "outputs": [
    {
     "data": {
      "text/plain": [
       "5"
      ]
     },
     "execution_count": 4,
     "metadata": {},
     "output_type": "execute_result"
    }
   ],
   "source": [
    "l[1]"
   ]
  },
  {
   "cell_type": "code",
   "execution_count": 5,
   "id": "189be551",
   "metadata": {},
   "outputs": [
    {
     "data": {
      "text/plain": [
       "True"
      ]
     },
     "execution_count": 5,
     "metadata": {},
     "output_type": "execute_result"
    }
   ],
   "source": [
    "l[4]"
   ]
  },
  {
   "cell_type": "code",
   "execution_count": 6,
   "id": "02eedf12",
   "metadata": {},
   "outputs": [
    {
     "data": {
      "text/plain": [
       "(1+2j)"
      ]
     },
     "execution_count": 6,
     "metadata": {},
     "output_type": "execute_result"
    }
   ],
   "source": [
    "l[3]"
   ]
  },
  {
   "cell_type": "code",
   "execution_count": 8,
   "id": "60c7a00c",
   "metadata": {},
   "outputs": [
    {
     "data": {
      "text/plain": [
       "5"
      ]
     },
     "execution_count": 8,
     "metadata": {},
     "output_type": "execute_result"
    }
   ],
   "source": [
    "len(l)"
   ]
  },
  {
   "cell_type": "code",
   "execution_count": 9,
   "id": "3699623e",
   "metadata": {},
   "outputs": [
    {
     "data": {
      "text/plain": [
       "['INDIA', 5, 6.5]"
      ]
     },
     "execution_count": 9,
     "metadata": {},
     "output_type": "execute_result"
    }
   ],
   "source": [
    "l[0:3]"
   ]
  },
  {
   "cell_type": "code",
   "execution_count": 10,
   "id": "4eec5ca7",
   "metadata": {},
   "outputs": [
    {
     "data": {
      "text/plain": [
       "[6.5, (1+2j), True]"
      ]
     },
     "execution_count": 10,
     "metadata": {},
     "output_type": "execute_result"
    }
   ],
   "source": [
    "l[2:5]"
   ]
  },
  {
   "cell_type": "code",
   "execution_count": 11,
   "id": "57bef998",
   "metadata": {},
   "outputs": [],
   "source": [
    "l1 = ['INDIA',123,True]\n",
    "l2 = ['Maharashtra',2456,False]"
   ]
  },
  {
   "cell_type": "code",
   "execution_count": 12,
   "id": "9eca5ca2",
   "metadata": {},
   "outputs": [
    {
     "data": {
      "text/plain": [
       "['INDIA', 123, True]"
      ]
     },
     "execution_count": 12,
     "metadata": {},
     "output_type": "execute_result"
    }
   ],
   "source": [
    "l1"
   ]
  },
  {
   "cell_type": "code",
   "execution_count": 13,
   "id": "c117c87b",
   "metadata": {},
   "outputs": [
    {
     "data": {
      "text/plain": [
       "['Maharashtra', 2456, False]"
      ]
     },
     "execution_count": 13,
     "metadata": {},
     "output_type": "execute_result"
    }
   ],
   "source": [
    "l2"
   ]
  },
  {
   "cell_type": "code",
   "execution_count": 25,
   "id": "0865e50a",
   "metadata": {},
   "outputs": [],
   "source": [
    "l3 = l1+l2"
   ]
  },
  {
   "cell_type": "code",
   "execution_count": 26,
   "id": "54952e1d",
   "metadata": {},
   "outputs": [
    {
     "data": {
      "text/plain": [
       "['INDIA', 123, True, 'Maharashtra', 2456, False]"
      ]
     },
     "execution_count": 26,
     "metadata": {},
     "output_type": "execute_result"
    }
   ],
   "source": [
    "l3"
   ]
  },
  {
   "cell_type": "code",
   "execution_count": 30,
   "id": "23bf59f0",
   "metadata": {},
   "outputs": [],
   "source": [
    "l3 = l3 +['Pune']"
   ]
  },
  {
   "cell_type": "code",
   "execution_count": 32,
   "id": "bf15ac7f",
   "metadata": {},
   "outputs": [
    {
     "data": {
      "text/plain": [
       "'INDIA'"
      ]
     },
     "execution_count": 32,
     "metadata": {},
     "output_type": "execute_result"
    }
   ],
   "source": [
    "l3.pop(0)"
   ]
  },
  {
   "cell_type": "code",
   "execution_count": 33,
   "id": "e6442d19",
   "metadata": {},
   "outputs": [
    {
     "data": {
      "text/plain": [
       "[123, True, 'Maharashtra', 2456, False, 'Pune']"
      ]
     },
     "execution_count": 33,
     "metadata": {},
     "output_type": "execute_result"
    }
   ],
   "source": [
    "l3"
   ]
  },
  {
   "cell_type": "code",
   "execution_count": 34,
   "id": "5398960b",
   "metadata": {},
   "outputs": [
    {
     "data": {
      "text/plain": [
       "2456"
      ]
     },
     "execution_count": 34,
     "metadata": {},
     "output_type": "execute_result"
    }
   ],
   "source": [
    "l3.pop(3)"
   ]
  },
  {
   "cell_type": "code",
   "execution_count": 35,
   "id": "853ae03c",
   "metadata": {},
   "outputs": [
    {
     "data": {
      "text/plain": [
       "[123, True, 'Maharashtra', False, 'Pune']"
      ]
     },
     "execution_count": 35,
     "metadata": {},
     "output_type": "execute_result"
    }
   ],
   "source": [
    "l3"
   ]
  },
  {
   "cell_type": "markdown",
   "id": "54ed5dcc",
   "metadata": {},
   "source": [
    "## INSERTION"
   ]
  },
  {
   "cell_type": "code",
   "execution_count": 36,
   "id": "f6017a03",
   "metadata": {},
   "outputs": [],
   "source": [
    "l3.insert(0,'JAY')"
   ]
  },
  {
   "cell_type": "code",
   "execution_count": 37,
   "id": "7ffde301",
   "metadata": {},
   "outputs": [
    {
     "data": {
      "text/plain": [
       "['JAY', 123, True, 'Maharashtra', False, 'Pune']"
      ]
     },
     "execution_count": 37,
     "metadata": {},
     "output_type": "execute_result"
    }
   ],
   "source": [
    "l3"
   ]
  },
  {
   "cell_type": "code",
   "execution_count": 38,
   "id": "09ca498f",
   "metadata": {},
   "outputs": [],
   "source": [
    "l3.insert(2,'DATAWAVE.AI')"
   ]
  },
  {
   "cell_type": "code",
   "execution_count": 39,
   "id": "1e09dd27",
   "metadata": {},
   "outputs": [
    {
     "data": {
      "text/plain": [
       "['JAY', 123, 'DATAWAVE.AI', True, 'Maharashtra', False, 'Pune']"
      ]
     },
     "execution_count": 39,
     "metadata": {},
     "output_type": "execute_result"
    }
   ],
   "source": [
    "l3"
   ]
  },
  {
   "cell_type": "code",
   "execution_count": 40,
   "id": "a8023512",
   "metadata": {},
   "outputs": [],
   "source": [
    "l3.insert(0,'India')"
   ]
  },
  {
   "cell_type": "code",
   "execution_count": 41,
   "id": "38bf52b2",
   "metadata": {},
   "outputs": [
    {
     "data": {
      "text/plain": [
       "['India', 'JAY', 123, 'DATAWAVE.AI', True, 'Maharashtra', False, 'Pune']"
      ]
     },
     "execution_count": 41,
     "metadata": {},
     "output_type": "execute_result"
    }
   ],
   "source": [
    "l3"
   ]
  },
  {
   "cell_type": "code",
   "execution_count": 42,
   "id": "8d814468",
   "metadata": {},
   "outputs": [],
   "source": [
    "l3.insert(-1,[1,2,3])"
   ]
  },
  {
   "cell_type": "code",
   "execution_count": 43,
   "id": "e42e0a8c",
   "metadata": {},
   "outputs": [
    {
     "data": {
      "text/plain": [
       "['India',\n",
       " 'JAY',\n",
       " 123,\n",
       " 'DATAWAVE.AI',\n",
       " True,\n",
       " 'Maharashtra',\n",
       " False,\n",
       " [1, 2, 3],\n",
       " 'Pune']"
      ]
     },
     "execution_count": 43,
     "metadata": {},
     "output_type": "execute_result"
    }
   ],
   "source": [
    "l3"
   ]
  },
  {
   "cell_type": "code",
   "execution_count": 44,
   "id": "62f9742b",
   "metadata": {},
   "outputs": [
    {
     "data": {
      "text/plain": [
       "2"
      ]
     },
     "execution_count": 44,
     "metadata": {},
     "output_type": "execute_result"
    }
   ],
   "source": [
    "l3[-2][-2]"
   ]
  },
  {
   "cell_type": "code",
   "execution_count": 45,
   "id": "2ceef09b",
   "metadata": {},
   "outputs": [
    {
     "data": {
      "text/plain": [
       "[1, 2, 3]"
      ]
     },
     "execution_count": 45,
     "metadata": {},
     "output_type": "execute_result"
    }
   ],
   "source": [
    "l3[7]"
   ]
  },
  {
   "cell_type": "code",
   "execution_count": 46,
   "id": "68f63dc1",
   "metadata": {},
   "outputs": [
    {
     "data": {
      "text/plain": [
       "1"
      ]
     },
     "execution_count": 46,
     "metadata": {},
     "output_type": "execute_result"
    }
   ],
   "source": [
    "l3[7][0]"
   ]
  },
  {
   "cell_type": "code",
   "execution_count": 52,
   "id": "259bcbf9",
   "metadata": {},
   "outputs": [
    {
     "data": {
      "text/plain": [
       "['India',\n",
       " 'JAY',\n",
       " 123,\n",
       " 'DATAWAVE.AI',\n",
       " True,\n",
       " 'Maharashtra',\n",
       " False,\n",
       " [1, 2, 3],\n",
       " 'Pune']"
      ]
     },
     "execution_count": 52,
     "metadata": {},
     "output_type": "execute_result"
    }
   ],
   "source": [
    "l3"
   ]
  },
  {
   "cell_type": "code",
   "execution_count": null,
   "id": "80d2a4f0",
   "metadata": {},
   "outputs": [],
   "source": [
    "reverse"
   ]
  },
  {
   "cell_type": "code",
   "execution_count": 54,
   "id": "9e287a13",
   "metadata": {},
   "outputs": [
    {
     "data": {
      "text/plain": [
       "['Pune',\n",
       " [1, 2, 3],\n",
       " False,\n",
       " 'Maharashtra',\n",
       " True,\n",
       " 'DATAWAVE.AI',\n",
       " 123,\n",
       " 'JAY',\n",
       " 'India']"
      ]
     },
     "execution_count": 54,
     "metadata": {},
     "output_type": "execute_result"
    }
   ],
   "source": [
    "l3[::-1]"
   ]
  },
  {
   "cell_type": "code",
   "execution_count": 55,
   "id": "f76cc3a9",
   "metadata": {},
   "outputs": [],
   "source": [
    "l3.append('jaydip')"
   ]
  },
  {
   "cell_type": "code",
   "execution_count": 56,
   "id": "62a5fdfd",
   "metadata": {},
   "outputs": [
    {
     "data": {
      "text/plain": [
       "['India',\n",
       " 'JAY',\n",
       " 123,\n",
       " 'DATAWAVE.AI',\n",
       " True,\n",
       " 'Maharashtra',\n",
       " False,\n",
       " [1, 2, 3],\n",
       " 'Pune',\n",
       " 'jaydip']"
      ]
     },
     "execution_count": 56,
     "metadata": {},
     "output_type": "execute_result"
    }
   ],
   "source": [
    "l3"
   ]
  },
  {
   "cell_type": "code",
   "execution_count": 69,
   "id": "22069132",
   "metadata": {},
   "outputs": [],
   "source": [
    "l4 = [25,58,12,36,85,0,5,14]"
   ]
  },
  {
   "cell_type": "code",
   "execution_count": 70,
   "id": "a36074c5",
   "metadata": {},
   "outputs": [
    {
     "data": {
      "text/plain": [
       "[25, 58, 12, 36, 85, 0, 5, 14]"
      ]
     },
     "execution_count": 70,
     "metadata": {},
     "output_type": "execute_result"
    }
   ],
   "source": [
    "l4"
   ]
  },
  {
   "cell_type": "code",
   "execution_count": 63,
   "id": "76f1e35b",
   "metadata": {},
   "outputs": [],
   "source": [
    "l4.sort()"
   ]
  },
  {
   "cell_type": "code",
   "execution_count": 64,
   "id": "b311baf5",
   "metadata": {},
   "outputs": [
    {
     "data": {
      "text/plain": [
       "[0, 5, 12, 14, 25, 36, 58, 85]"
      ]
     },
     "execution_count": 64,
     "metadata": {},
     "output_type": "execute_result"
    }
   ],
   "source": [
    "l4"
   ]
  },
  {
   "cell_type": "code",
   "execution_count": 65,
   "id": "3ccd8f35",
   "metadata": {},
   "outputs": [],
   "source": [
    "l4.sort(reverse=True)"
   ]
  },
  {
   "cell_type": "code",
   "execution_count": 66,
   "id": "ce26975b",
   "metadata": {},
   "outputs": [
    {
     "data": {
      "text/plain": [
       "[85, 58, 36, 25, 14, 12, 5, 0]"
      ]
     },
     "execution_count": 66,
     "metadata": {},
     "output_type": "execute_result"
    }
   ],
   "source": [
    "l4"
   ]
  },
  {
   "cell_type": "code",
   "execution_count": 67,
   "id": "aa29d5b4",
   "metadata": {},
   "outputs": [],
   "source": [
    "l4.clear()"
   ]
  },
  {
   "cell_type": "code",
   "execution_count": 68,
   "id": "9cd64e04",
   "metadata": {},
   "outputs": [
    {
     "data": {
      "text/plain": [
       "[]"
      ]
     },
     "execution_count": 68,
     "metadata": {},
     "output_type": "execute_result"
    }
   ],
   "source": [
    "l4"
   ]
  },
  {
   "cell_type": "markdown",
   "id": "6c757c5e",
   "metadata": {},
   "source": [
    "## conditioning\n",
    "if / else"
   ]
  },
  {
   "cell_type": "code",
   "execution_count": 11,
   "id": "c081df8c",
   "metadata": {},
   "outputs": [],
   "source": [
    "yash = 45"
   ]
  },
  {
   "cell_type": "code",
   "execution_count": 12,
   "id": "c6ff0cbb",
   "metadata": {},
   "outputs": [
    {
     "name": "stdout",
     "output_type": "stream",
     "text": [
      "yash:- pass\n"
     ]
    }
   ],
   "source": [
    "if yash > 35:\n",
    "    print(\"yash:- pass\")"
   ]
  },
  {
   "cell_type": "code",
   "execution_count": 13,
   "id": "dd8dac73",
   "metadata": {},
   "outputs": [],
   "source": [
    "jay = 55"
   ]
  },
  {
   "cell_type": "code",
   "execution_count": 15,
   "id": "9c4c0157",
   "metadata": {},
   "outputs": [
    {
     "name": "stdout",
     "output_type": "stream",
     "text": [
      "jay:- pass\n",
      "jay:- pass\n",
      "jay:- pass\n"
     ]
    }
   ],
   "source": [
    "if jay > 35:\n",
    "    print(\"jay:- pass\")\n",
    "    print(\"jay:- pass\")\n",
    "    print(\"jay:- pass\")"
   ]
  },
  {
   "cell_type": "code",
   "execution_count": 16,
   "id": "e579432e",
   "metadata": {},
   "outputs": [],
   "source": [
    "a = 20"
   ]
  },
  {
   "cell_type": "code",
   "execution_count": 17,
   "id": "a52f27dd",
   "metadata": {},
   "outputs": [
    {
     "name": "stdout",
     "output_type": "stream",
     "text": [
      "a is greater than 10\n"
     ]
    }
   ],
   "source": [
    "if a > 10:\n",
    "    print(\"a is greater than 10\")"
   ]
  },
  {
   "cell_type": "code",
   "execution_count": 18,
   "id": "e7ef8f60",
   "metadata": {},
   "outputs": [
    {
     "data": {
      "text/plain": [
       "False"
      ]
     },
     "execution_count": 18,
     "metadata": {},
     "output_type": "execute_result"
    }
   ],
   "source": [
    "a < 10"
   ]
  },
  {
   "cell_type": "code",
   "execution_count": 22,
   "id": "5ebfaa48",
   "metadata": {},
   "outputs": [
    {
     "name": "stdout",
     "output_type": "stream",
     "text": [
      "result:- PASS\n"
     ]
    }
   ],
   "source": [
    "score = 95\n",
    "if score > 35:\n",
    "    print(\"result:- PASS\")\n",
    "else:\n",
    "    print(\"result:- FAIL\")"
   ]
  },
  {
   "cell_type": "code",
   "execution_count": 23,
   "id": "54a25e99",
   "metadata": {},
   "outputs": [
    {
     "name": "stdout",
     "output_type": "stream",
     "text": [
      "result:- FAIL\n"
     ]
    }
   ],
   "source": [
    "score = 9\n",
    "if score > 35:\n",
    "    print(\"result:- PASS\")\n",
    "else:\n",
    "    print(\"result:- FAIL\")"
   ]
  },
  {
   "cell_type": "code",
   "execution_count": 25,
   "id": "1db7d4ac",
   "metadata": {
    "scrolled": true
   },
   "outputs": [
    {
     "name": "stdout",
     "output_type": "stream",
     "text": [
      "n is odd\n"
     ]
    }
   ],
   "source": [
    " n = 10 \n",
    "    \n",
    "if n*2 ==0:\n",
    "    print(\"n is even\")\n",
    "else:\n",
    "    print(\"n is odd\")"
   ]
  },
  {
   "cell_type": "code",
   "execution_count": 26,
   "id": "e6365a54",
   "metadata": {
    "scrolled": true
   },
   "outputs": [
    {
     "name": "stdout",
     "output_type": "stream",
     "text": [
      "10 is odd\n"
     ]
    }
   ],
   "source": [
    " n = 10 \n",
    "    \n",
    "if n*2 ==0:\n",
    "    print(f\"{n} is even\")\n",
    "else:\n",
    "    print(f\"{n} is odd\")"
   ]
  },
  {
   "cell_type": "code",
   "execution_count": 28,
   "id": "f60f6c1c",
   "metadata": {},
   "outputs": [
    {
     "name": "stdout",
     "output_type": "stream",
     "text": [
      "1 is odd\n"
     ]
    }
   ],
   "source": [
    "n = 1 \n",
    "\n",
    "if n*2 ==0:\n",
    "    print(f'{n} is even')\n",
    "else:\n",
    "    print(f'{n} is odd')"
   ]
  },
  {
   "cell_type": "code",
   "execution_count": 29,
   "id": "7254bd61",
   "metadata": {},
   "outputs": [
    {
     "name": "stdout",
     "output_type": "stream",
     "text": [
      "3is odd\n"
     ]
    }
   ],
   "source": [
    "n = 3\n",
    "\n",
    "if n*2 ==0:\n",
    "    print(f'{n} is even')\n",
    "else:\n",
    "    print(f'{n}is odd')"
   ]
  },
  {
   "cell_type": "code",
   "execution_count": 31,
   "id": "6c7dda0a",
   "metadata": {},
   "outputs": [
    {
     "name": "stdout",
     "output_type": "stream",
     "text": [
      "2 is odd\n"
     ]
    }
   ],
   "source": [
    "n = 2\n",
    "\n",
    "if n*2 ==0:\n",
    "    print(f'{n} is even')\n",
    "else:\n",
    "    print(f'{n} is odd')"
   ]
  },
  {
   "cell_type": "code",
   "execution_count": 32,
   "id": "6c4ef6c3",
   "metadata": {},
   "outputs": [
    {
     "name": "stdout",
     "output_type": "stream",
     "text": [
      "-5 is negative\n"
     ]
    }
   ],
   "source": [
    "n = -5\n",
    "\n",
    "if n >0:\n",
    "    print(f\"{n} is positive\")\n",
    "else:\n",
    "    print(f\"{n} is negative\")"
   ]
  },
  {
   "cell_type": "code",
   "execution_count": 33,
   "id": "08122e52",
   "metadata": {},
   "outputs": [
    {
     "name": "stdout",
     "output_type": "stream",
     "text": [
      "12 is positive\n"
     ]
    }
   ],
   "source": [
    "n = 12\n",
    "\n",
    "if n >0:\n",
    "    print(f\"{n} is positive\")\n",
    "else:\n",
    "    print(f\"{n} is negative\")"
   ]
  },
  {
   "cell_type": "code",
   "execution_count": 1,
   "id": "fdff5133",
   "metadata": {},
   "outputs": [
    {
     "name": "stdout",
     "output_type": "stream",
     "text": [
      "85\n"
     ]
    },
    {
     "data": {
      "text/plain": [
       "'85'"
      ]
     },
     "execution_count": 1,
     "metadata": {},
     "output_type": "execute_result"
    }
   ],
   "source": [
    "input()"
   ]
  },
  {
   "cell_type": "code",
   "execution_count": 6,
   "id": "8a58dac9",
   "metadata": {},
   "outputs": [
    {
     "name": "stdout",
     "output_type": "stream",
     "text": [
      "89\n",
      "89.0 is positive\n"
     ]
    }
   ],
   "source": [
    "n = float(input())\n",
    "\n",
    "if n >0:\n",
    "    print(f\"{n} is positive\")\n",
    "else:\n",
    "    print(f\"{n} is negative\")"
   ]
  },
  {
   "cell_type": "code",
   "execution_count": 4,
   "id": "7d0d51a8",
   "metadata": {},
   "outputs": [],
   "source": [
    "s = 'INDIA'"
   ]
  },
  {
   "cell_type": "code",
   "execution_count": 5,
   "id": "738ad553",
   "metadata": {},
   "outputs": [
    {
     "data": {
      "text/plain": [
       "'AIDNI'"
      ]
     },
     "execution_count": 5,
     "metadata": {},
     "output_type": "execute_result"
    }
   ],
   "source": [
    "s[::-1]"
   ]
  },
  {
   "cell_type": "code",
   "execution_count": 7,
   "id": "b717c407",
   "metadata": {},
   "outputs": [
    {
     "name": "stdout",
     "output_type": "stream",
     "text": [
      "-23\n",
      "-23.0 is negative\n"
     ]
    }
   ],
   "source": [
    "n = float(input())\n",
    "\n",
    "if n >0:\n",
    "    print(f\"{n} is positive\")\n",
    "else:\n",
    "    print(f\"{n} is negative\")"
   ]
  },
  {
   "cell_type": "code",
   "execution_count": 9,
   "id": "c80a1833",
   "metadata": {},
   "outputs": [
    {
     "name": "stdout",
     "output_type": "stream",
     "text": [
      "Please enter any number23\n",
      "23.0 is positive\n"
     ]
    }
   ],
   "source": [
    "n = float(input(\"Please enter any number\")) \n",
    "\n",
    "if n >0:\n",
    "    print(f\"{n} is positive\")\n",
    "else:\n",
    "    print(f\"{n}is negative\")"
   ]
  },
  {
   "cell_type": "code",
   "execution_count": 4,
   "id": "1fb5b187",
   "metadata": {},
   "outputs": [
    {
     "name": "stdout",
     "output_type": "stream",
     "text": [
      "Enter income amount within range 1 to 100:60\n",
      "You can afford to buy bike\n"
     ]
    }
   ],
   "source": [
    "income = float(input(\"Enter income amount within range 1 to 100:\"))\n",
    "\n",
    "if income > 50:\n",
    "    print(\"You can afford to buy bike\")\n",
    "else:\n",
    "    print(\"You can not affored anything\")"
   ]
  },
  {
   "cell_type": "code",
   "execution_count": null,
   "id": "a9118d55",
   "metadata": {},
   "outputs": [],
   "source": []
  },
  {
   "cell_type": "code",
   "execution_count": null,
   "id": "e9166a99",
   "metadata": {},
   "outputs": [],
   "source": []
  }
 ],
 "metadata": {
  "kernelspec": {
   "display_name": "Python 3 (ipykernel)",
   "language": "python",
   "name": "python3"
  },
  "language_info": {
   "codemirror_mode": {
    "name": "ipython",
    "version": 3
   },
   "file_extension": ".py",
   "mimetype": "text/x-python",
   "name": "python",
   "nbconvert_exporter": "python",
   "pygments_lexer": "ipython3",
   "version": "3.11.5"
  }
 },
 "nbformat": 4,
 "nbformat_minor": 5
}
